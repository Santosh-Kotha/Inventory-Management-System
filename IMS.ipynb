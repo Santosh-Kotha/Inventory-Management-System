{
  "nbformat": 4,
  "nbformat_minor": 0,
  "metadata": {
    "colab": {
      "name": "IMS.ipynb",
      "provenance": [],
      "collapsed_sections": []
    },
    "kernelspec": {
      "name": "python3",
      "display_name": "Python 3"
    },
    "language_info": {
      "name": "python"
    }
  },
  "cells": [
    {
      "cell_type": "markdown",
      "metadata": {
        "id": "G2mX7DeShBTi"
      },
      "source": [
        "# **Inventory Management System**"
      ]
    },
    {
      "cell_type": "code",
      "metadata": {
        "colab": {
          "base_uri": "https://localhost:8080/"
        },
        "id": "Hv_SfCwlg9mV",
        "outputId": "95df3ea4-db72-4f8c-822e-ae5bad9b9b42"
      },
      "source": [
        "\n",
        "import json\n",
        "from datetime import datetime\n",
        "from prettytable import PrettyTable\n",
        "\n",
        "fd = open('inventory.json','r')\n",
        "txt = fd.read()\n",
        "fd.close()\n",
        "\n",
        "data = json.loads(txt)\n",
        "\n",
        "\n",
        "def printing_bill(bill,dt_string,billing_amount):\n",
        "  if billing_amount!=0:\n",
        "    print(\"\\n\")\n",
        "    print(\"Here is your Bill\" + \"\\n\")\n",
        "    print(\"                                         XYZ Mart\")\n",
        "    print(\"                          _______________________________________\" + \"    \"+dt_string)\n",
        "    print(\"*\"*92)\n",
        "    myTable = PrettyTable([\"S.no\",\"Product Name\", \"Price per unit\", \"Quantity per unit\",\"Units purchsed\",\"Amount  \"])\n",
        "    new_bill  = bill.split('\\n')[:-1]\n",
        "    for b in new_bill:\n",
        "      myTable.add_row(b.split(','))\n",
        "    print(myTable)\n",
        "    print(\"-\"*92)\n",
        "    print(\" TOTAL BILLING AMOUNT :                                                        \"+ \"₹\"+str(billing_amount))\n",
        "    print(\"-\"*92)\n",
        "    print(\"                            Thanks for Shopping , Please Visit Again.\")\n",
        "    print(\"*\"*92)\n",
        "  else : print(\"You have not purchased Anything\")\n",
        "\n",
        "\n",
        "def stock_availability(ui_quant,data):\n",
        "   avail_stock = data[ui_id][\"no_of_units\"]\n",
        "   if avail_stock < ui_quant:\n",
        "     print(\"There are only %d units of %s left! Do you want to purchase these units. (yes or no)\" %(avail_stock,data[ui_id][\"prod_name\"]))\n",
        "     ui = input()\n",
        "     if ui ==\"yes\":\n",
        "       print(\"Press 'n' for purchasing next item\")\n",
        "       return avail_stock\n",
        "     else : print(\"Sorry for the Inconvenience\" + \"Press n for next for purchasing next item\")\n",
        "   else : return ui_quant\n",
        "\n",
        "def purchase(ui_id,ui_quant,data,s_no):\n",
        "  if ui_id in data and data[ui_id][\"no_of_units\"]>0:\n",
        "    availability = stock_availability(ui_quant,data)\n",
        "    ui_quant = availability\n",
        "    data[ui_id][\"no_of_units\"] = data[ui_id][\"no_of_units\"]-ui_quant\n",
        "    total_amount = float(data[ui_id][\"price_per_unit\"]*ui_quant)\n",
        "    now = datetime.now()\n",
        "    dt_string = now.strftime(\"%d/%m/%Y %H:%M:%S\") \n",
        "    sale_bill = str(s_no)+\",\"+data[ui_id][\"prod_name\"]+\",\"+\"₹\"+str(float(data[ui_id][\"price_per_unit\"]))+\",\"+data[ui_id][\"Quant_per_unit\"] + \",\" + str(ui_quant)+\",\" + \"₹\"+str(total_amount) + \"\\n\"\n",
        "    fd = open(\"sales_log.json\",'r')\n",
        "    txt = fd.read()\n",
        "    fd.close()\n",
        "    sale = json.loads(txt)\n",
        "    sale[len(sale)]= {\"Product Name \" :data[ui_id][\"prod_name\"] , \"Price per unit \" : \"₹ \" + str(float(data[ui_id][\"price_per_unit\"])) , \"No of units purchased \" :str(ui_quant) , \"Billing Amount \" :\"₹ \"+str(total_amount) , \"Date and time\" : dt_string}\n",
        "    js = json.dumps(sale)\n",
        "    fd = open('sales_log.json','w')\n",
        "    fd.write(js)\n",
        "    fd.close()\n",
        "    fd = open('inventory.json','w')\n",
        "    json.dump(data,fd)\n",
        "    fd.close()\n",
        "    return sale_bill,total_amount\n",
        "  else:\n",
        "    print(\"Product is OUT OF STOCK !\")\n",
        "    return None,0\n",
        "print(\"Instructions : \" + \"\\n\" + \"Press 'n' to make new entry :\" + \"\\n\" + \"press 's' to stop purchasing : \" + \"\\n\")\n",
        "bill = \"\"\n",
        "s_no = 1\n",
        "billing_amount=0\n",
        "while True:\n",
        "  i_p = input()\n",
        "  if type(input) == str : print(\"Enter Valid Input\")\n",
        "  else:\n",
        "      key_ip = ord(i_p)\n",
        "  if key_ip == 110:\n",
        "    ui_id = input(\"Enter the Product-Id : \" )\n",
        "    try: int(ui_id) \n",
        "    except ValueError: \n",
        "      print(\"INVALID PRODUCT-ID ! Please enter correct product id\")\n",
        "      ui_id = int(input(\"Enter the Product-id\"))\n",
        "    ui_quant = int(input(\"Enter the no of units required : \"  ))\n",
        "    try: int(ui_quant) \n",
        "    except ValueError: \n",
        "      print(\"INVALID Input for quantity ! Please enter correct quantity\")\n",
        "      ui_quant = int(input(\"Enter the no of units required : \"  ))\n",
        "    b,a = purchase(ui_id,ui_quant,data,s_no) \n",
        "    if b == None :pass \n",
        "    else:\n",
        "      bill = bill + b\n",
        "      billing_amount = billing_amount + a\n",
        "      s_no = s_no+1\n",
        "  elif key_ip == 115:\n",
        "    now = datetime.now()\n",
        "    dt_string = now.strftime(\"%d/%m/%Y %H:%M:%S\") \n",
        "    printing_bill(bill,dt_string,billing_amount)\n",
        "    bill = \"\"\n",
        "    break\n",
        "  else: print(\"Please Enter Valid Input\")\n",
        "\n"
      ],
      "execution_count": 33,
      "outputs": [
        {
          "output_type": "stream",
          "name": "stdout",
          "text": [
            "Instructions : \n",
            "Press 'n' to make new entry :\n",
            "press 's' to stop purchasing : \n",
            "\n",
            "n\n",
            "Enter the Product-Id : 1006\n",
            "Enter the no of units required : 1\n",
            "Product is OUT OF STOCK !\n",
            "s\n",
            "You have not purchased Anything\n"
          ]
        }
      ]
    }
  ]
}