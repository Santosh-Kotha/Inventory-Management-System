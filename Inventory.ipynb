{
  "nbformat": 4,
  "nbformat_minor": 0,
  "metadata": {
    "colab": {
      "name": "Inventory.ipynb",
      "provenance": [],
      "collapsed_sections": []
    },
    "kernelspec": {
      "name": "python3",
      "display_name": "Python 3"
    },
    "language_info": {
      "name": "python"
    }
  },
  "cells": [
    {
      "cell_type": "code",
      "metadata": {
        "id": "s7-1mUmELACJ"
      },
      "source": [
        "import json\n",
        "\n",
        "inventory={ 1001 : { \"prod_name\" : \"Tar Dal\" , \" prod_type\" : \"Dals\" , \"Quant_per_unit\" :  \"1 kg\" , \"price_per_unit\" :99, \"no_of_units\" :100 },\n",
        "           1002 : { \"prod_name\" : \"Moong Dal\" , \" prod_type\" : \"Dals\" , \"Quant_per_unit\" : \"1 kg\", \"price_per_unit\" :80 , \"no_of_units\" :100},\n",
        "           1003 : { \"prod_name\" : \"Chana Dal\" , \" prod_type\" : \"Dals\" , \"Quant_per_unit\" : \"1 kg\" , \"price_per_unit\" : 82 , \"no_of_units\" :100 },\n",
        "           1004 : { \"prod_name\" : \"Masoor Dal\" , \" prod_type\" : \"Dals\" , \"Quant_per_unit\" : \"1 kg\", \"price_per_unit\" :78 , \"no_of_units\" :100},\n",
        "           1005 : { \"prod_name\" : \"Tur Dal premium\" , \" prod_type\" : \"Dals\" , \"Quant_per_unit\" : \" 1kg\" , \"price_per_unit\" :112 , \"no_of_units\" :100 },\n",
        "           1006 : { \"prod_name\" : \"Premia Badam\" , \" prod_type\" : \"Dry Fruits\" , \"Quant_per_unit\" : \"500 g\" , \"price_per_unit\" :405, \"no_of_units\" :100 },\n",
        "           1007 : { \"prod_name\" : \"Premia Kaju\" , \" prod_type\" : \"Dry Fruits\" , \"Quant_per_unit\" : \"500 g\" , \"price_per_unit\" :520 , \"no_of_units\" :100 },\n",
        "           1008 : { \"prod_name\" : \"Premia Pista Plain\" , \" prod_type\" : \"Dry Fruits\" , \"Quant_per_unit\" : \"100 g\" , \"price_per_unit\" :225 , \"no_of_units\" :100 },\n",
        "           1009 : { \"prod_name\" : \"Premia Kismiss Indian\" , \" prod_type\" : \"Dry Fruits\" , \"Quant_per_unit\" : \"500 g\" , \"price_per_unit\" :177 , \"no_of_units\" :100 },\n",
        "           1010 : { \"prod_name\" : \"Pemia Mixed Dry Fruits\" , \" prod_type\" : \"Dry FRuits\" , \"Quant_per_unit\" : \"500 g\" , \"price_per_unit\" :225 , \"no_of_units\" :100 },\n",
        "           1011 : { \"prod_name\" : \"Jeera\" , \" prod_type\" : \"Masala & spieces\" , \"Quant_per_unit_in_kg\" : \"200 g\" , \"price_per_unit\" :50 , \"no_of_units\" :100 },\n",
        "           1012 : { \"prod_name\" : \"Green Elachi\" , \" prod_type\" : \"Masala & spieces\" , \"Quant_per_unit\" : \"50 g\" , \"price_per_unit\" :144 , \"no_of_units\" :100 },\n",
        "           1013 : { \"prod_name\" : \"Black Pepper\" , \" prod_type\" : \"Masala & spieces\" , \"Quant_per_unit\" : \"100 g\" , \"price_per_unit\" :66 , \"no_of_units\" :100 },\n",
        "           1014 : { \"prod_name\" : \"Dhaniya\" , \" prod_type\" : \"Masala & spieces\" , \"Quant_per_unit\" : \"400 g\" , \"price_per_unit\" :50 , \"no_of_units\" :100 },\n",
        "           1015 : { \"prod_name\" : \"Khaskhas\" , \" prod_type\" : \"Masala & spieces\" , \"Quant_per_unit\" : \"100 g\" , \"price_per_unit\" :180 , \"no_of_units\" :100 },\n",
        "           1016 : { \"prod_name\" : \"MP Sihore wheat\" , \" prod_type\" : \"Flours & Grains\" , \"Quant_per_unit\" :\"5 kg\" , \"price_per_unit\" :225, \"no_of_units\" :100 },\n",
        "            1017 : { \"prod_name\" : \"Rava\" , \" prod_type\" : \"Flours & Grains\" , \"Quant_per_unit\" :\"1 kg\"  , \"price_per_unit\" :39, \"no_of_units\" :100 },\n",
        "            1018 : { \"prod_name\" : \"Besan\" , \" prod_type\" : \"Flours & Grains\" , \"Quant_per_unit\" :\"500 g\" , \"price_per_unit\" :38, \"no_of_units\" :100 },\n",
        "            1019 : { \"prod_name\" : \"Maida\" , \" prod_type\" : \"Flours & Grains\" , \"Quant_per_unit\" :\"1 kg\"  , \"price_per_unit\" :36, \"no_of_units\" :100 },\n",
        "            1020 : { \"prod_name\" : \"Rice Atta\" , \" prod_type\" : \"Flours & Grains\" , \"Quant_per_unit\" :\"1 kg\" , \"price_per_unit\" :48, \"no_of_units\" :100 },\n",
        "           1021 : { \"prod_name\" : \"IR Boiled Rice\" , \" prod_type\" : \"Rice & Rice products\" , \"Quant_per_unit\" :\"1 kg\"  , \"price_per_unit\" :38, \"no_of_units\" :100 },\n",
        "           1022 : { \"prod_name\" : \"Masoori Boiled Rice\" , \" prod_type\" : \"Rice & Rice products\" , \"Quant_per_unit\" :\"1 kg\"  , \"price_per_unit\" :42, \"no_of_units\" :100 },\n",
        "           1023 : { \"prod_name\" : \"Pulav Basmati Rice\" , \" prod_type\" : \"Rice & Rice products\" , \"Quant_per_unit\" :\"5 kg\"  , \"price_per_unit\" :360, \"no_of_units\" :100 },\n",
        "           1024 : { \"prod_name\" : \"HMT Kolam Rice\" , \" prod_type\" : \"Rice & Rice products\" , \"Quant_per_unit\" :\"5 kg\"  , \"price_per_unit\" :275, \"no_of_units\" :100 },\n",
        "           1025 : { \"prod_name\" : \"Premia Poha Jada\" , \" prod_type\" : \"Poha\" , \"Quant_per_unit\" :\"1 Kg\"  , \"price_per_unit\" :49, \"no_of_units\" :100 },\n",
        "           1026 : { \"prod_name\" : \"Miki Maixe Poha\" , \" prod_type\" : \"Poha\" , \"Quant_per_unit\" :\"500 g\"  , \"price_per_unit\" :30, \"no_of_units\" :100 },\n",
        "           1027 : { \"prod_name\" : \"Mamra(Puffed rice)\" , \" prod_type\" : \"Kurmura\" , \"Quant_per_unit\" :\"500 g\"  , \"price_per_unit\" :37, \"no_of_units\" :100 },\n",
        "           1028 : { \"prod_name\" : \"Premia Cow Ghee Pouch\" , \" prod_type\" : \"Cooking oil & Ghee\" , \"Quant_per_unit\" :\"1 litre\"  , \"price_per_unit\" :355, \"no_of_units\" :100 },\n",
        "           1029 : { \"prod_name\" : \"Swaad Refined Sunflower Oil\" , \" prod_type\" : \"Cooking oil & Ghee\" , \"Quant_per_unit\" :\" 1 litre\"  , \"price_per_unit\" :84, \"no_of_units\" :100 },\n",
        "           1030 : { \"prod_name\" : \"Coco cola\" , \" prod_type\" : \"Drinks\" , \"Quant_per_unit\" :\"2 litre\"  , \"price_per_unit\" :87, \"no_of_units\" :100 },\n",
        "           }\n",
        "js = json.dumps(inventory)  \n",
        "fd = open(\"inventory.json\",\"w\")  \n",
        "fd.write(js) \n",
        "fd.close()   \n",
        "\n"
      ],
      "execution_count": null,
      "outputs": []
    },
    {
      "cell_type": "markdown",
      "metadata": {
        "id": "6xf-KbcLLmPR"
      },
      "source": [
        "**ADD NEW ITEM TO INVENTORY**"
      ]
    },
    {
      "cell_type": "code",
      "metadata": {
        "id": "C6b7GElDHWs1"
      },
      "source": [
        "id = int(input(\"Enter the product id : \"))\n",
        "if id in inventory: \n",
        "  print(\" ITEM ALREADY EXISTS IN INVENTORY\" + \"\\n\" + \"USE LOAD STOCK FOR ADDING STOCK TO EXISTING ITEM\")\n",
        "else :\n",
        "  prod_name = input(\"Enter the product name : \")\n",
        "  prod_type = input(\"Enter the product type : \")\n",
        "  Quant_per_unit = input(\"Enter the quantity per unit : \")\n",
        "  price_per_unit = int(input(\"Enter the product price per unit : \"))\n",
        "  no_of_units = int(input(\"Enter the no of units : \"))\n",
        "  inventory[id] = { \"prod_name\" : prod_name  , \"prod_type\" : prod_type , \"Quant_per_unit\" : Quant_per_unit  , \"price_per_unit\" : price_per_unit, \"no_of_units\" : no_of_units }\n",
        "  inventory = json.dumps(inventory)\n",
        "  fd = open('inventory.json','w')\n",
        "  fd.write(inventory)\n",
        "  fd.close()\n"
      ],
      "execution_count": null,
      "outputs": []
    },
    {
      "cell_type": "markdown",
      "metadata": {
        "id": "gOIhl5NKNIga"
      },
      "source": [
        "**LOAD STOCK (TO ADD STOCK TO EXISTING ITEM)**"
      ]
    },
    {
      "cell_type": "code",
      "metadata": {
        "id": "W_4op--WNT6V"
      },
      "source": [
        "id = int(input(\"Enter the product id : \"))\n",
        "if id not in inventory:\n",
        "  print(\"THIS PRODUCT IS NOT IN THE INVENTORY\")\n",
        "else:\n",
        "  quantity = int(input(\"Enter the no of units you want to add into inventory : \"))\n",
        "  if quantity>0:\n",
        "    inventory[id][\"no_of_units\"] = inventory[id][\"no_of_units\"]+quantity\n",
        "    inventory = json.dumps(inventory)\n",
        "    fd = open('inventory.json','w')\n",
        "    fd.write(inventory)\n",
        "    fd.close()\n",
        "  else: print(\"ENTER PROPER QUANTITY OF ITEMS\")\n",
        "\n"
      ],
      "execution_count": null,
      "outputs": []
    }
  ]
}